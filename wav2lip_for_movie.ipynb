{
  "nbformat": 4,
  "nbformat_minor": 0,
  "metadata": {
    "colab": {
      "name": "wav2lip for movie",
      "provenance": [],
      "collapsed_sections": [],
      "authorship_tag": "ABX9TyOpTOlzz0RCop62BpB1b+CV",
      "include_colab_link": true
    },
    "kernelspec": {
      "name": "python3",
      "display_name": "Python 3"
    },
    "language_info": {
      "name": "python"
    },
    "accelerator": "GPU"
  },
  "cells": [
    {
      "cell_type": "markdown",
      "metadata": {
        "id": "view-in-github",
        "colab_type": "text"
      },
      "source": [
        "<a href=\"https://colab.research.google.com/github/cedro3/Wav2Lip/blob/master/wav2lip_for_movie.ipynb\" target=\"_parent\"><img src=\"https://colab.research.google.com/assets/colab-badge.svg\" alt=\"Open In Colab\"/></a>"
      ]
    },
    {
      "cell_type": "code",
      "execution_count": null,
      "metadata": {
        "id": "6QdjdYQc5oDg"
      },
      "outputs": [],
      "source": [
        "#@title セットアップ\n",
        "\n",
        "# githubからコードを取得\n",
        "! git clone https://github.com/miwomusubu/Wav2Lip.git\n",
        "%cd Wav2Lip\n",
        "\n",
        "# ライブラリ・インストール\n",
        "! pip install -r requirements.txt\n",
        "\n",
        "# 学習済みパラメータのダウンロード\n",
        "! pip install --upgrade gdown\n",
        "import gdown\n",
        "gdown.download('https://drive.google.com/uc?id=195RPsqXVhfh4QyCnaDQdf56KrGk20AUq', 'checkpoints.zip', quiet=False)\n",
        "! unzip checkpoints.zip\n",
        "! wget \"https://www.adrianbulat.com/downloads/python-fan/s3fd-619a316812.pth\" -O \"face_detection/detection/sfd/s3fd.pth\""
      ]
    },
    {
      "cell_type": "code",
      "source": [
        "#@title wav2lip\n",
        "video = 'page.mp4'#@param {type:\"string\"}\n",
        "audio = 'mix.wav'#@param {type:\"string\"}\n",
        "video_path = 'video/'+video\n",
        "audio_path = 'audio/'+audio\n",
        "chin = 40 #@param {type:\"slider\", min:0, max:60, step:5}\n",
        "pads = '0 '+str(chin)+' 0 0'\n",
        "\n",
        "! python inference.py --checkpoint_path checkpoints/wav2lip_gan.pth\\\n",
        "                      --face $video_path\\\n",
        "                      --audio $audio_path\\\n",
        "                      --pads $pads"
      ],
      "metadata": {
        "id": "NBl6zwegA7qg"
      },
      "execution_count": null,
      "outputs": []
    },
    {
      "cell_type": "code",
      "source": [
        "#@title 動画の再生\n",
        "from IPython.display import HTML\n",
        "from base64 import b64encode\n",
        "mp4 = open('/content/Wav2Lip/results/result_voice.mp4','rb').read()\n",
        "data_url = \"data:video/mp4;base64,\" + b64encode(mp4).decode()\n",
        "HTML(f\"\"\"\n",
        "<video width=\"70%\" height=\"70%\" controls>\n",
        "      <source src=\"{data_url}\" type=\"video/mp4\">\n",
        "</video>\"\"\")"
      ],
      "metadata": {
        "id": "QFrlaoZ4Bg5d"
      },
      "execution_count": null,
      "outputs": []
    },
    {
      "cell_type": "code",
      "source": [
        "#@title 動画のダウンロード\n",
        "import os\n",
        "import shutil\n",
        "from google.colab import files\n",
        "\n",
        "video_name = os.path.splitext(video)\n",
        "audio_name = os.path.splitext(audio)\n",
        "file_name = 'results/'+video_name[0]+'_'+audio_name[0]+'.mp4'\n",
        "shutil.copy('results/result_voice.mp4', file_name)\n",
        "files.download(file_name)"
      ],
      "metadata": {
        "id": "S7vS8HRaE5ne"
      },
      "execution_count": null,
      "outputs": []
    }
  ]
}
